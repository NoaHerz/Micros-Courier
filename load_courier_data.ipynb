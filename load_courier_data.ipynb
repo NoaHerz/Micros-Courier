{
 "cells": [
  {
   "cell_type": "markdown",
   "id": "047cacd5-1c35-45fe-a77f-899c3f125e74",
   "metadata": {},
   "source": [
    "# Courier - single-unit preprocessing"
   ]
  },
  {
   "cell_type": "markdown",
   "id": "a7226445-0d22-492c-9380-4f398b01737c",
   "metadata": {},
   "source": [
    "Raw data files are stored in an .ng5/ns6 ending. \n",
    "These files are the output of the blackrock system. \n",
    "(To read about the meaning of the different file endings, see: https://blackrockneurotech.com/research/wp-content/ifu/LB-0826-1.11-Python-Offline-Utilities-IFU-Draft.pdf)\n",
    "\n",
    "The raw data files are stored in a non-consistent manner on Rhino. \n",
    "To find them, you can run the following code in terminal:\n",
    "\n",
    "find -P /data10/RAM/subjects/ -type f -name “*.ns[2-6]\n",
    "\n",
    "and for Frieburg subjects:\n",
    "\n",
    "find -P /data/eeg/FR* -type f -name \"*.ns[2-6]\"\n",
    "\n"
   ]
  },
  {
   "cell_type": "markdown",
   "id": "89d48b63-b205-47c9-b60d-ab0d180a4800",
   "metadata": {},
   "source": [
    "Let's start by finding event files for courier subjects:"
   ]
  },
  {
   "cell_type": "code",
   "execution_count": 29,
   "id": "619167dc-6ce9-4abd-97fa-c5ba7d4943a8",
   "metadata": {
    "tags": []
   },
   "outputs": [],
   "source": [
    "from scipy.io import loadmat\n",
    "import pandas as pd\n"
   ]
  },
  {
   "cell_type": "code",
   "execution_count": 30,
   "id": "3383c33f-63b4-4910-823b-02028c92d586",
   "metadata": {},
   "outputs": [
    {
     "name": "stdout",
     "output_type": "stream",
     "text": [
      "/home1/noaherz/micros\n"
     ]
    }
   ],
   "source": [
    "%cd '/home1/noaherz/micros'\n",
    "from define_data import *\n"
   ]
  },
  {
   "cell_type": "markdown",
   "id": "0749fead-0ecd-4431-8f60-6df4fb0f321c",
   "metadata": {},
   "source": [
    "'define_data' is a function that returns a list of courier subjects and sessions (event files). \n",
    "parameters are: define_data(micros,dBoy25,DBoy3_1,include_learning, DBoy4) where each of the input arguments is \n",
    "True or False depending on whether you want to get only subjects with micros \n",
    "and whether you want to include data from the different versions or the learning session.\n"
   ]
  },
  {
   "cell_type": "markdown",
   "id": "58afeda1-e909-4033-8cfa-7dc968fb0cf2",
   "metadata": {},
   "source": [
    "Notice that this function reads .mat files, as older subjects had their events stored in matlab files. \n",
    "Newer subjects will have their events stored in a different way, so this function will read only a small amount of the existing data."
   ]
  },
  {
   "cell_type": "code",
   "execution_count": 31,
   "id": "0c720a3f-6ea1-4d6b-bd49-3a807adbe7a9",
   "metadata": {
    "tags": []
   },
   "outputs": [
    {
     "name": "stdout",
     "output_type": "stream",
     "text": [
      "noMicros\n",
      "['FR425', 'FR452', 'FR454', 'FR455', 'FR456', 'FR462', 'R1065J', 'R1066P', 'R1075J', 'R1092J', 'R1383J', 'R1384J', 'R1389J', 'R1398J', 'R1401J', 'R1436J', 'R1475J', 'TJ022', 'TJ025', 'TJ057']\n",
      "subjects number: 22\n",
      "session number: 51\n"
     ]
    },
    {
     "data": {
      "text/plain": [
       "['/data/events/courier/DBoy3_1/delivery/processed/FR453_events_sess0.mat',\n",
       " '/data/events/courier/DBoy3_1/delivery/processed/FR453_events_sess1.mat',\n",
       " '/data/events/courier/DBoy3_1/delivery/processed/FR453_events_sess2.mat',\n",
       " '/data/events/courier/DBoy3_1/delivery/processed/R1313J_events_sess0.mat',\n",
       " '/data/events/courier/DBoy3_1/delivery/processed/R1313J_events_sess1.mat',\n",
       " '/data/events/courier/DBoy3_1/delivery/processed/R1313J_events_sess2.mat',\n",
       " '/data/events/courier/DBoy3_1/delivery/processed/R1343J_events_sess0.mat',\n",
       " '/data/events/courier/DBoy3_1/delivery/processed/R1343J_events_sess1.mat',\n",
       " '/data/events/courier/DBoy3_1/delivery/processed/R1348J_events_sess0.mat',\n",
       " '/data/events/courier/DBoy3_1/delivery/processed/R1348J_events_sess1.mat',\n",
       " '/data/events/courier/DBoy3_1/delivery/processed/R1348J_events_sess2.mat',\n",
       " '/data/events/courier/DBoy3_1/learning/processed/FR453_events_sesslearning.mat',\n",
       " '/data/events/courier/DBoy3_1/learning/processed/R1313J_events_sesslearning.mat',\n",
       " '/data/events/courier/DBoy3_1/learning/processed/R1343J_events_sesslearning.mat',\n",
       " '/data/events/courier/DBoy3_1/learning/processed/R1348J_events_sesslearning.mat',\n",
       " '/data/events/courier/DBoy4/processed/FR457_events_sess0.mat',\n",
       " '/data/events/courier/DBoy4/processed/FR457_events_sess1.mat',\n",
       " '/data/events/courier/DBoy4/processed/FR457_events_sess2.mat',\n",
       " '/data/events/courier/DBoy4/processed/FR458_events_sess3.mat',\n",
       " '/data/events/courier/DBoy4/processed/FR458_events_sess4.mat',\n",
       " '/data/events/courier/DBoy4/processed/FR458_events_sess5.mat',\n",
       " '/data/events/courier/DBoy4/processed/FR459_events_sess0.mat',\n",
       " '/data/events/courier/DBoy4/processed/FR459_events_sess1.mat',\n",
       " '/data/events/courier/DBoy4/processed/FR461_events_sess3.mat',\n",
       " '/data/events/courier/DBoy4/processed/FR463_events_sess0.mat',\n",
       " '/data/events/courier/DBoy4/processed/FR465_events_sess0.mat',\n",
       " '/data/events/courier/DBoy4/processed/FR465_events_sess1.mat',\n",
       " '/data/events/courier/dBoy25/processed/FR426_events_sess0.mat',\n",
       " '/data/events/courier/dBoy25/processed/FR427_events_sess0.mat',\n",
       " '/data/events/courier/dBoy25/processed/FR427_events_sess1.mat',\n",
       " '/data/events/courier/dBoy25/processed/FR428_events_sess0.mat',\n",
       " '/data/events/courier/dBoy25/processed/FR428_events_sess1.mat',\n",
       " '/data/events/courier/dBoy25/processed/FR428_events_sess2.mat',\n",
       " '/data/events/courier/dBoy25/processed/FR429_events_sess0.mat',\n",
       " '/data/events/courier/dBoy25/processed/FR429_events_sess1.mat',\n",
       " '/data/events/courier/dBoy25/processed/FR430_events_sess0.mat',\n",
       " '/data/events/courier/dBoy25/processed/FR430_events_sess2.mat',\n",
       " '/data/events/courier/dBoy25/processed/FR435_events_sess1.mat',\n",
       " '/data/events/courier/dBoy25/processed/FR436_events_sess0.mat',\n",
       " '/data/events/courier/dBoy25/processed/FR438_events_sess0.mat',\n",
       " '/data/events/courier/dBoy25/processed/FR438_events_sess1.mat',\n",
       " '/data/events/courier/dBoy25/processed/FR438_events_sess2.mat',\n",
       " '/data/events/courier/dBoy25/processed/FR441_events_sess1.mat',\n",
       " '/data/events/courier/dBoy25/processed/FR441_events_sess2.mat',\n",
       " '/data/events/courier/dBoy25/processed/FR441_events_sess3.mat',\n",
       " '/data/events/courier/dBoy25/processed/FR442_events_sess0.mat',\n",
       " '/data/events/courier/dBoy25/processed/FR442_events_sess1.mat',\n",
       " '/data/events/courier/dBoy25/processed/FR442_events_sess2.mat',\n",
       " '/data/events/courier/dBoy25/processed/FR443_events_sess1.mat',\n",
       " '/data/events/courier/dBoy25/processed/FR443_events_sess2.mat',\n",
       " '/data/events/courier/dBoy25/processed/R1027J_events_sess0.mat']"
      ]
     },
     "execution_count": 31,
     "metadata": {},
     "output_type": "execute_result"
    }
   ],
   "source": [
    "\n",
    "subjectList,sessionList=define_data(True,True,True,True,True) \n",
    "print('subjects number:',len(subjectList))\n",
    "print('session number:',len(sessionList))\n",
    "subjectList\n",
    "sessionList\n"
   ]
  },
  {
   "cell_type": "code",
   "execution_count": 32,
   "id": "ecf72f6a-7fa8-40ef-9211-264f05b97f5f",
   "metadata": {},
   "outputs": [
    {
     "name": "stdout",
     "output_type": "stream",
     "text": [
      "number of subjects:  22\n"
     ]
    }
   ],
   "source": [
    "print('number of subjects: ',len(subjectList))\n"
   ]
  },
  {
   "cell_type": "markdown",
   "id": "5016b36a-35d9-4079-adb1-8062525ebfd3",
   "metadata": {},
   "source": [
    "Load one .mat file to inspect the event structure"
   ]
  },
  {
   "cell_type": "code",
   "execution_count": 33,
   "id": "f2f1bfd3-b1bc-4f10-9325-dda8dee8ed7a",
   "metadata": {
    "tags": []
   },
   "outputs": [
    {
     "data": {
      "text/html": [
       "<div>\n",
       "<style scoped>\n",
       "    .dataframe tbody tr th:only-of-type {\n",
       "        vertical-align: middle;\n",
       "    }\n",
       "\n",
       "    .dataframe tbody tr th {\n",
       "        vertical-align: top;\n",
       "    }\n",
       "\n",
       "    .dataframe thead th {\n",
       "        text-align: right;\n",
       "    }\n",
       "</style>\n",
       "<table border=\"1\" class=\"dataframe\">\n",
       "  <thead>\n",
       "    <tr style=\"text-align: right;\">\n",
       "      <th></th>\n",
       "      <th>subject</th>\n",
       "      <th>session</th>\n",
       "      <th>trial</th>\n",
       "      <th>type</th>\n",
       "      <th>serialPos</th>\n",
       "      <th>item</th>\n",
       "      <th>store</th>\n",
       "      <th>storeX</th>\n",
       "      <th>storeZ</th>\n",
       "      <th>presX</th>\n",
       "      <th>...</th>\n",
       "      <th>micfile</th>\n",
       "      <th>repeat</th>\n",
       "      <th>singleRecall</th>\n",
       "      <th>surrVocalization</th>\n",
       "      <th>enc_mstime</th>\n",
       "      <th>outputPosition</th>\n",
       "      <th>postPerc</th>\n",
       "      <th>postPerc_time</th>\n",
       "      <th>path_length</th>\n",
       "      <th>excess_path_length</th>\n",
       "    </tr>\n",
       "  </thead>\n",
       "  <tbody>\n",
       "    <tr>\n",
       "      <th>0</th>\n",
       "      <td>FR453</td>\n",
       "      <td>0</td>\n",
       "      <td>0</td>\n",
       "      <td>STORE_FAM</td>\n",
       "      <td>-999</td>\n",
       "      <td>-999</td>\n",
       "      <td>bike_shop</td>\n",
       "      <td>-999.0</td>\n",
       "      <td>-999.0</td>\n",
       "      <td>-999.0</td>\n",
       "      <td>...</td>\n",
       "      <td>/data/eeg/FR453/raw/DBoy3_1_0/micro/20170731-2...</td>\n",
       "      <td>-999</td>\n",
       "      <td>-999</td>\n",
       "      <td>-999</td>\n",
       "      <td>-999.0</td>\n",
       "      <td>-999</td>\n",
       "      <td>-999.0</td>\n",
       "      <td>-999.0</td>\n",
       "      <td>NaN</td>\n",
       "      <td>NaN</td>\n",
       "    </tr>\n",
       "    <tr>\n",
       "      <th>1</th>\n",
       "      <td>FR453</td>\n",
       "      <td>0</td>\n",
       "      <td>0</td>\n",
       "      <td>STORE_FAM</td>\n",
       "      <td>-999</td>\n",
       "      <td>-999</td>\n",
       "      <td>clothing_store</td>\n",
       "      <td>-999.0</td>\n",
       "      <td>-999.0</td>\n",
       "      <td>-999.0</td>\n",
       "      <td>...</td>\n",
       "      <td>/data/eeg/FR453/raw/DBoy3_1_0/micro/20170731-2...</td>\n",
       "      <td>-999</td>\n",
       "      <td>-999</td>\n",
       "      <td>-999</td>\n",
       "      <td>-999.0</td>\n",
       "      <td>-999</td>\n",
       "      <td>-999.0</td>\n",
       "      <td>-999.0</td>\n",
       "      <td>NaN</td>\n",
       "      <td>NaN</td>\n",
       "    </tr>\n",
       "    <tr>\n",
       "      <th>2</th>\n",
       "      <td>FR453</td>\n",
       "      <td>0</td>\n",
       "      <td>0</td>\n",
       "      <td>STORE_FAM</td>\n",
       "      <td>-999</td>\n",
       "      <td>-999</td>\n",
       "      <td>jewelry_store</td>\n",
       "      <td>-999.0</td>\n",
       "      <td>-999.0</td>\n",
       "      <td>-999.0</td>\n",
       "      <td>...</td>\n",
       "      <td>/data/eeg/FR453/raw/DBoy3_1_0/micro/20170731-2...</td>\n",
       "      <td>-999</td>\n",
       "      <td>-999</td>\n",
       "      <td>-999</td>\n",
       "      <td>-999.0</td>\n",
       "      <td>-999</td>\n",
       "      <td>-999.0</td>\n",
       "      <td>-999.0</td>\n",
       "      <td>NaN</td>\n",
       "      <td>NaN</td>\n",
       "    </tr>\n",
       "    <tr>\n",
       "      <th>3</th>\n",
       "      <td>FR453</td>\n",
       "      <td>0</td>\n",
       "      <td>0</td>\n",
       "      <td>STORE_FAM</td>\n",
       "      <td>-999</td>\n",
       "      <td>-999</td>\n",
       "      <td>dentist</td>\n",
       "      <td>-999.0</td>\n",
       "      <td>-999.0</td>\n",
       "      <td>-999.0</td>\n",
       "      <td>...</td>\n",
       "      <td>/data/eeg/FR453/raw/DBoy3_1_0/micro/20170731-2...</td>\n",
       "      <td>-999</td>\n",
       "      <td>-999</td>\n",
       "      <td>-999</td>\n",
       "      <td>-999.0</td>\n",
       "      <td>-999</td>\n",
       "      <td>-999.0</td>\n",
       "      <td>-999.0</td>\n",
       "      <td>NaN</td>\n",
       "      <td>NaN</td>\n",
       "    </tr>\n",
       "    <tr>\n",
       "      <th>4</th>\n",
       "      <td>FR453</td>\n",
       "      <td>0</td>\n",
       "      <td>0</td>\n",
       "      <td>STORE_FAM</td>\n",
       "      <td>-999</td>\n",
       "      <td>-999</td>\n",
       "      <td>florist</td>\n",
       "      <td>-999.0</td>\n",
       "      <td>-999.0</td>\n",
       "      <td>-999.0</td>\n",
       "      <td>...</td>\n",
       "      <td>/data/eeg/FR453/raw/DBoy3_1_0/micro/20170731-2...</td>\n",
       "      <td>-999</td>\n",
       "      <td>-999</td>\n",
       "      <td>-999</td>\n",
       "      <td>-999.0</td>\n",
       "      <td>-999</td>\n",
       "      <td>-999.0</td>\n",
       "      <td>-999.0</td>\n",
       "      <td>NaN</td>\n",
       "      <td>NaN</td>\n",
       "    </tr>\n",
       "    <tr>\n",
       "      <th>...</th>\n",
       "      <td>...</td>\n",
       "      <td>...</td>\n",
       "      <td>...</td>\n",
       "      <td>...</td>\n",
       "      <td>...</td>\n",
       "      <td>...</td>\n",
       "      <td>...</td>\n",
       "      <td>...</td>\n",
       "      <td>...</td>\n",
       "      <td>...</td>\n",
       "      <td>...</td>\n",
       "      <td>...</td>\n",
       "      <td>...</td>\n",
       "      <td>...</td>\n",
       "      <td>...</td>\n",
       "      <td>...</td>\n",
       "      <td>...</td>\n",
       "      <td>...</td>\n",
       "      <td>...</td>\n",
       "      <td>...</td>\n",
       "      <td>...</td>\n",
       "    </tr>\n",
       "    <tr>\n",
       "      <th>402</th>\n",
       "      <td>FR453</td>\n",
       "      <td>0</td>\n",
       "      <td>102</td>\n",
       "      <td>FFR_REC_WORD_VV</td>\n",
       "      <td>-999</td>\n",
       "      <td>-999</td>\n",
       "      <td>-999</td>\n",
       "      <td>-999.0</td>\n",
       "      <td>-999.0</td>\n",
       "      <td>-999.0</td>\n",
       "      <td>...</td>\n",
       "      <td>/data/eeg/FR453/raw/DBoy3_1_0/micro/20170731-2...</td>\n",
       "      <td>-999</td>\n",
       "      <td>-999</td>\n",
       "      <td>-999</td>\n",
       "      <td>-999.0</td>\n",
       "      <td>-999</td>\n",
       "      <td>-999.0</td>\n",
       "      <td>-999.0</td>\n",
       "      <td>NaN</td>\n",
       "      <td>NaN</td>\n",
       "    </tr>\n",
       "    <tr>\n",
       "      <th>403</th>\n",
       "      <td>FR453</td>\n",
       "      <td>0</td>\n",
       "      <td>102</td>\n",
       "      <td>FFR_REC_WORD_VV</td>\n",
       "      <td>-999</td>\n",
       "      <td>-999</td>\n",
       "      <td>-999</td>\n",
       "      <td>-999.0</td>\n",
       "      <td>-999.0</td>\n",
       "      <td>-999.0</td>\n",
       "      <td>...</td>\n",
       "      <td>/data/eeg/FR453/raw/DBoy3_1_0/micro/20170731-2...</td>\n",
       "      <td>-999</td>\n",
       "      <td>-999</td>\n",
       "      <td>-999</td>\n",
       "      <td>-999.0</td>\n",
       "      <td>-999</td>\n",
       "      <td>-999.0</td>\n",
       "      <td>-999.0</td>\n",
       "      <td>NaN</td>\n",
       "      <td>NaN</td>\n",
       "    </tr>\n",
       "    <tr>\n",
       "      <th>404</th>\n",
       "      <td>FR453</td>\n",
       "      <td>0</td>\n",
       "      <td>102</td>\n",
       "      <td>FFR_REC_WORD_VV</td>\n",
       "      <td>-999</td>\n",
       "      <td>-999</td>\n",
       "      <td>-999</td>\n",
       "      <td>-999.0</td>\n",
       "      <td>-999.0</td>\n",
       "      <td>-999.0</td>\n",
       "      <td>...</td>\n",
       "      <td>/data/eeg/FR453/raw/DBoy3_1_0/micro/20170731-2...</td>\n",
       "      <td>-999</td>\n",
       "      <td>-999</td>\n",
       "      <td>-999</td>\n",
       "      <td>-999.0</td>\n",
       "      <td>-999</td>\n",
       "      <td>-999.0</td>\n",
       "      <td>-999.0</td>\n",
       "      <td>NaN</td>\n",
       "      <td>NaN</td>\n",
       "    </tr>\n",
       "    <tr>\n",
       "      <th>405</th>\n",
       "      <td>FR453</td>\n",
       "      <td>0</td>\n",
       "      <td>102</td>\n",
       "      <td>FFR_REC_WORD_VV</td>\n",
       "      <td>-999</td>\n",
       "      <td>-999</td>\n",
       "      <td>-999</td>\n",
       "      <td>-999.0</td>\n",
       "      <td>-999.0</td>\n",
       "      <td>-999.0</td>\n",
       "      <td>...</td>\n",
       "      <td>/data/eeg/FR453/raw/DBoy3_1_0/micro/20170731-2...</td>\n",
       "      <td>-999</td>\n",
       "      <td>-999</td>\n",
       "      <td>-999</td>\n",
       "      <td>-999.0</td>\n",
       "      <td>-999</td>\n",
       "      <td>-999.0</td>\n",
       "      <td>-999.0</td>\n",
       "      <td>NaN</td>\n",
       "      <td>NaN</td>\n",
       "    </tr>\n",
       "    <tr>\n",
       "      <th>406</th>\n",
       "      <td>FR453</td>\n",
       "      <td>0</td>\n",
       "      <td>102</td>\n",
       "      <td>FFR_REC_WORD_VV</td>\n",
       "      <td>-999</td>\n",
       "      <td>-999</td>\n",
       "      <td>-999</td>\n",
       "      <td>-999.0</td>\n",
       "      <td>-999.0</td>\n",
       "      <td>-999.0</td>\n",
       "      <td>...</td>\n",
       "      <td>/data/eeg/FR453/raw/DBoy3_1_0/micro/20170731-2...</td>\n",
       "      <td>-999</td>\n",
       "      <td>-999</td>\n",
       "      <td>-999</td>\n",
       "      <td>-999.0</td>\n",
       "      <td>-999</td>\n",
       "      <td>-999.0</td>\n",
       "      <td>-999.0</td>\n",
       "      <td>NaN</td>\n",
       "      <td>NaN</td>\n",
       "    </tr>\n",
       "  </tbody>\n",
       "</table>\n",
       "<p>407 rows × 31 columns</p>\n",
       "</div>"
      ],
      "text/plain": [
       "    subject session trial             type serialPos  item           store  \\\n",
       "0     FR453       0     0        STORE_FAM      -999  -999       bike_shop   \n",
       "1     FR453       0     0        STORE_FAM      -999  -999  clothing_store   \n",
       "2     FR453       0     0        STORE_FAM      -999  -999   jewelry_store   \n",
       "3     FR453       0     0        STORE_FAM      -999  -999         dentist   \n",
       "4     FR453       0     0        STORE_FAM      -999  -999         florist   \n",
       "..      ...     ...   ...              ...       ...   ...             ...   \n",
       "402   FR453       0   102  FFR_REC_WORD_VV      -999  -999            -999   \n",
       "403   FR453       0   102  FFR_REC_WORD_VV      -999  -999            -999   \n",
       "404   FR453       0   102  FFR_REC_WORD_VV      -999  -999            -999   \n",
       "405   FR453       0   102  FFR_REC_WORD_VV      -999  -999            -999   \n",
       "406   FR453       0   102  FFR_REC_WORD_VV      -999  -999            -999   \n",
       "\n",
       "    storeX storeZ  presX  ...  \\\n",
       "0   -999.0 -999.0 -999.0  ...   \n",
       "1   -999.0 -999.0 -999.0  ...   \n",
       "2   -999.0 -999.0 -999.0  ...   \n",
       "3   -999.0 -999.0 -999.0  ...   \n",
       "4   -999.0 -999.0 -999.0  ...   \n",
       "..     ...    ...    ...  ...   \n",
       "402 -999.0 -999.0 -999.0  ...   \n",
       "403 -999.0 -999.0 -999.0  ...   \n",
       "404 -999.0 -999.0 -999.0  ...   \n",
       "405 -999.0 -999.0 -999.0  ...   \n",
       "406 -999.0 -999.0 -999.0  ...   \n",
       "\n",
       "                                               micfile repeat singleRecall  \\\n",
       "0    /data/eeg/FR453/raw/DBoy3_1_0/micro/20170731-2...   -999         -999   \n",
       "1    /data/eeg/FR453/raw/DBoy3_1_0/micro/20170731-2...   -999         -999   \n",
       "2    /data/eeg/FR453/raw/DBoy3_1_0/micro/20170731-2...   -999         -999   \n",
       "3    /data/eeg/FR453/raw/DBoy3_1_0/micro/20170731-2...   -999         -999   \n",
       "4    /data/eeg/FR453/raw/DBoy3_1_0/micro/20170731-2...   -999         -999   \n",
       "..                                                 ...    ...          ...   \n",
       "402  /data/eeg/FR453/raw/DBoy3_1_0/micro/20170731-2...   -999         -999   \n",
       "403  /data/eeg/FR453/raw/DBoy3_1_0/micro/20170731-2...   -999         -999   \n",
       "404  /data/eeg/FR453/raw/DBoy3_1_0/micro/20170731-2...   -999         -999   \n",
       "405  /data/eeg/FR453/raw/DBoy3_1_0/micro/20170731-2...   -999         -999   \n",
       "406  /data/eeg/FR453/raw/DBoy3_1_0/micro/20170731-2...   -999         -999   \n",
       "\n",
       "    surrVocalization enc_mstime outputPosition postPerc postPerc_time  \\\n",
       "0               -999     -999.0           -999   -999.0        -999.0   \n",
       "1               -999     -999.0           -999   -999.0        -999.0   \n",
       "2               -999     -999.0           -999   -999.0        -999.0   \n",
       "3               -999     -999.0           -999   -999.0        -999.0   \n",
       "4               -999     -999.0           -999   -999.0        -999.0   \n",
       "..               ...        ...            ...      ...           ...   \n",
       "402             -999     -999.0           -999   -999.0        -999.0   \n",
       "403             -999     -999.0           -999   -999.0        -999.0   \n",
       "404             -999     -999.0           -999   -999.0        -999.0   \n",
       "405             -999     -999.0           -999   -999.0        -999.0   \n",
       "406             -999     -999.0           -999   -999.0        -999.0   \n",
       "\n",
       "    path_length excess_path_length  \n",
       "0           NaN                NaN  \n",
       "1           NaN                NaN  \n",
       "2           NaN                NaN  \n",
       "3           NaN                NaN  \n",
       "4           NaN                NaN  \n",
       "..          ...                ...  \n",
       "402         NaN                NaN  \n",
       "403         NaN                NaN  \n",
       "404         NaN                NaN  \n",
       "405         NaN                NaN  \n",
       "406         NaN                NaN  \n",
       "\n",
       "[407 rows x 31 columns]"
      ]
     },
     "execution_count": 33,
     "metadata": {},
     "output_type": "execute_result"
    }
   ],
   "source": [
    "# read one example of a .mat file \n",
    "filename = sessionList[0]\n",
    "records = pd.DataFrame(loadmat(filename, squeeze_me=True)['events'])\n",
    "records"
   ]
  },
  {
   "cell_type": "code",
   "execution_count": 34,
   "id": "532fcc9f-a03a-4ebd-8549-9d84366aa993",
   "metadata": {},
   "outputs": [
    {
     "data": {
      "text/html": [
       "<div>\n",
       "<style scoped>\n",
       "    .dataframe tbody tr th:only-of-type {\n",
       "        vertical-align: middle;\n",
       "    }\n",
       "\n",
       "    .dataframe tbody tr th {\n",
       "        vertical-align: top;\n",
       "    }\n",
       "\n",
       "    .dataframe thead th {\n",
       "        text-align: right;\n",
       "    }\n",
       "</style>\n",
       "<table border=\"1\" class=\"dataframe\">\n",
       "  <thead>\n",
       "    <tr style=\"text-align: right;\">\n",
       "      <th></th>\n",
       "      <th>subject</th>\n",
       "      <th>session</th>\n",
       "      <th>trial</th>\n",
       "      <th>type</th>\n",
       "      <th>serialPos</th>\n",
       "      <th>item</th>\n",
       "      <th>store</th>\n",
       "      <th>storeX</th>\n",
       "      <th>storeZ</th>\n",
       "      <th>presX</th>\n",
       "      <th>...</th>\n",
       "      <th>micfile</th>\n",
       "      <th>repeat</th>\n",
       "      <th>singleRecall</th>\n",
       "      <th>surrVocalization</th>\n",
       "      <th>enc_mstime</th>\n",
       "      <th>outputPosition</th>\n",
       "      <th>postPerc</th>\n",
       "      <th>postPerc_time</th>\n",
       "      <th>path_length</th>\n",
       "      <th>excess_path_length</th>\n",
       "    </tr>\n",
       "  </thead>\n",
       "  <tbody>\n",
       "    <tr>\n",
       "      <th>64</th>\n",
       "      <td>FR453</td>\n",
       "      <td>0</td>\n",
       "      <td>1</td>\n",
       "      <td>REC_WORD</td>\n",
       "      <td>5</td>\n",
       "      <td>notenstaender</td>\n",
       "      <td>music_store</td>\n",
       "      <td>-107.5</td>\n",
       "      <td>18.8</td>\n",
       "      <td>-999.0</td>\n",
       "      <td>...</td>\n",
       "      <td>/data/eeg/FR453/raw/DBoy3_1_0/micro/20170731-2...</td>\n",
       "      <td>0</td>\n",
       "      <td>0</td>\n",
       "      <td>0</td>\n",
       "      <td>1501675323886.0</td>\n",
       "      <td>1</td>\n",
       "      <td>90.0</td>\n",
       "      <td>0.0</td>\n",
       "      <td>NaN</td>\n",
       "      <td>NaN</td>\n",
       "    </tr>\n",
       "    <tr>\n",
       "      <th>65</th>\n",
       "      <td>FR453</td>\n",
       "      <td>0</td>\n",
       "      <td>1</td>\n",
       "      <td>REC_WORD</td>\n",
       "      <td>12</td>\n",
       "      <td>zahnbuerste</td>\n",
       "      <td>dentist</td>\n",
       "      <td>-70.11</td>\n",
       "      <td>68.83</td>\n",
       "      <td>-999.0</td>\n",
       "      <td>...</td>\n",
       "      <td>/data/eeg/FR453/raw/DBoy3_1_0/micro/20170731-2...</td>\n",
       "      <td>0</td>\n",
       "      <td>0</td>\n",
       "      <td>0</td>\n",
       "      <td>1501675645503.0</td>\n",
       "      <td>2</td>\n",
       "      <td>88.888889</td>\n",
       "      <td>100.0</td>\n",
       "      <td>NaN</td>\n",
       "      <td>NaN</td>\n",
       "    </tr>\n",
       "    <tr>\n",
       "      <th>66</th>\n",
       "      <td>FR453</td>\n",
       "      <td>0</td>\n",
       "      <td>1</td>\n",
       "      <td>REC_WORD</td>\n",
       "      <td>11</td>\n",
       "      <td>orange</td>\n",
       "      <td>grocery_store</td>\n",
       "      <td>-102.7</td>\n",
       "      <td>101.3</td>\n",
       "      <td>-999.0</td>\n",
       "      <td>...</td>\n",
       "      <td>/data/eeg/FR453/raw/DBoy3_1_0/micro/20170731-2...</td>\n",
       "      <td>0</td>\n",
       "      <td>0</td>\n",
       "      <td>0</td>\n",
       "      <td>1501675631103.0</td>\n",
       "      <td>3</td>\n",
       "      <td>37.5</td>\n",
       "      <td>0.0</td>\n",
       "      <td>NaN</td>\n",
       "      <td>NaN</td>\n",
       "    </tr>\n",
       "    <tr>\n",
       "      <th>67</th>\n",
       "      <td>FR453</td>\n",
       "      <td>0</td>\n",
       "      <td>1</td>\n",
       "      <td>REC_WORD</td>\n",
       "      <td>1</td>\n",
       "      <td>legosteine</td>\n",
       "      <td>toy_store</td>\n",
       "      <td>-140.2</td>\n",
       "      <td>-34.46</td>\n",
       "      <td>-999.0</td>\n",
       "      <td>...</td>\n",
       "      <td>/data/eeg/FR453/raw/DBoy3_1_0/micro/20170731-2...</td>\n",
       "      <td>0</td>\n",
       "      <td>0</td>\n",
       "      <td>1</td>\n",
       "      <td>1501675179038.0</td>\n",
       "      <td>4</td>\n",
       "      <td>14.285714</td>\n",
       "      <td>14.285714</td>\n",
       "      <td>NaN</td>\n",
       "      <td>NaN</td>\n",
       "    </tr>\n",
       "  </tbody>\n",
       "</table>\n",
       "<p>4 rows × 31 columns</p>\n",
       "</div>"
      ],
      "text/plain": [
       "   subject session trial      type serialPos           item          store  \\\n",
       "64   FR453       0     1  REC_WORD         5  notenstaender    music_store   \n",
       "65   FR453       0     1  REC_WORD        12    zahnbuerste        dentist   \n",
       "66   FR453       0     1  REC_WORD        11         orange  grocery_store   \n",
       "67   FR453       0     1  REC_WORD         1     legosteine      toy_store   \n",
       "\n",
       "   storeX storeZ  presX  ...  \\\n",
       "64 -107.5   18.8 -999.0  ...   \n",
       "65 -70.11  68.83 -999.0  ...   \n",
       "66 -102.7  101.3 -999.0  ...   \n",
       "67 -140.2 -34.46 -999.0  ...   \n",
       "\n",
       "                                              micfile repeat singleRecall  \\\n",
       "64  /data/eeg/FR453/raw/DBoy3_1_0/micro/20170731-2...      0            0   \n",
       "65  /data/eeg/FR453/raw/DBoy3_1_0/micro/20170731-2...      0            0   \n",
       "66  /data/eeg/FR453/raw/DBoy3_1_0/micro/20170731-2...      0            0   \n",
       "67  /data/eeg/FR453/raw/DBoy3_1_0/micro/20170731-2...      0            0   \n",
       "\n",
       "   surrVocalization       enc_mstime outputPosition   postPerc postPerc_time  \\\n",
       "64                0  1501675323886.0              1       90.0           0.0   \n",
       "65                0  1501675645503.0              2  88.888889         100.0   \n",
       "66                0  1501675631103.0              3       37.5           0.0   \n",
       "67                1  1501675179038.0              4  14.285714     14.285714   \n",
       "\n",
       "   path_length excess_path_length  \n",
       "64         NaN                NaN  \n",
       "65         NaN                NaN  \n",
       "66         NaN                NaN  \n",
       "67         NaN                NaN  \n",
       "\n",
       "[4 rows x 31 columns]"
      ]
     },
     "execution_count": 34,
     "metadata": {},
     "output_type": "execute_result"
    }
   ],
   "source": [
    "# or take a look only at recalled events:\n",
    "records[records['type']=='REC_WORD'][0:4]\n"
   ]
  },
  {
   "cell_type": "markdown",
   "id": "2a26ebfd-ad90-401d-8f63-1608bb35e3de",
   "metadata": {},
   "source": [
    "# Read micros data"
   ]
  },
  {
   "cell_type": "markdown",
   "id": "5bba2586-d935-4ef2-9a9e-0c98c560ca4b",
   "metadata": {},
   "source": [
    "Blackrock created a set of functions aimed at loading and manipulating Blackrock Microsystems datafiles.\n",
    "These functions, as well as some guidance about how to use them, can be found here:\n",
    "https://github.com/BlackrockNeurotech/Python-Utilities"
   ]
  },
  {
   "cell_type": "code",
   "execution_count": 1,
   "id": "d00af847-ba1e-4b53-ab5d-881d7eda75ad",
   "metadata": {},
   "outputs": [
    {
     "name": "stdout",
     "output_type": "stream",
     "text": [
      "/home1/noaherz/micros/Python-Utilities\n"
     ]
    }
   ],
   "source": [
    "# I cloned their Github repository \n",
    "%cd /home1/noaherz/micros/Python-Utilities\n"
   ]
  },
  {
   "cell_type": "markdown",
   "id": "755b38ca-9a0d-492c-b414-5f8e115f4bce",
   "metadata": {},
   "source": [
    "If needed, type 'pip install qtpy' in terminal before importing their functions."
   ]
  },
  {
   "cell_type": "code",
   "execution_count": 2,
   "id": "9a387f6e-d72a-4a99-ae56-89af292fd251",
   "metadata": {},
   "outputs": [],
   "source": [
    "import matplotlib.pyplot as plt\n",
    "from numpy               import arange\n",
    "from brpylib             import NsxFile, brpylib_ver\n"
   ]
  },
  {
   "cell_type": "code",
   "execution_count": 3,
   "id": "1e513d2e-d6f4-4fd8-a8d9-90b828fe597a",
   "metadata": {},
   "outputs": [
    {
     "name": "stdout",
     "output_type": "stream",
     "text": [
      "/home1/noaherz/micros/Python-Utilities\n"
     ]
    }
   ],
   "source": [
    "import sys\n",
    "import os\n",
    "from os import path\n",
    "from os import path as ospath\n",
    "\n",
    "sys.path.append(path.abspath('/home1/nherweg/01_toolbox/brPY'))\n",
    "sys.path.append(path.abspath('/home1/nherweg/01_toolbox/NeuralynxIO'))\n",
    "import neuralynx_io\n",
    "%cd '/home1/noaherz/micros/Python-Utilities'\n",
    "from brpylib import NsxFile\n",
    "import numpy as np\n",
    "# from ptsa.data.readers import EEGReader\n"
   ]
  },
  {
   "cell_type": "code",
   "execution_count": 4,
   "id": "bada90de-f968-4e4e-8df9-24b8b4800b61",
   "metadata": {},
   "outputs": [],
   "source": [
    "from os import path as ospath\n",
    "import json\n",
    "\n",
    "import h5py\n",
    "import scipy.io as sio\n"
   ]
  },
  {
   "cell_type": "markdown",
   "id": "43212e5a-2584-4f05-9714-3610bf8269d3",
   "metadata": {},
   "source": [
    "I copied one subjects' raw data (FR453_raw_DBoy3_1_0) to make sure I am not over-writing any existing files:"
   ]
  },
  {
   "cell_type": "code",
   "execution_count": 5,
   "id": "5c4d438e-4325-4e97-abff-e080a1773d36",
   "metadata": {},
   "outputs": [
    {
     "data": {
      "text/plain": [
       "'/home1/noaherz/micros/FR453_raw_DBoy3_1_0/'"
      ]
     },
     "execution_count": 5,
     "metadata": {},
     "output_type": "execute_result"
    }
   ],
   "source": [
    "path= '/home1/noaherz/micros/FR453_raw_DBoy3_1_0/'\n",
    "path\n"
   ]
  },
  {
   "cell_type": "code",
   "execution_count": 6,
   "id": "bf0b0fae-c32f-451e-89d2-dd87a6eafc1c",
   "metadata": {},
   "outputs": [
    {
     "data": {
      "text/plain": [
       "'/home1/noaherz/micros/FR453_raw_DBoy3_1_0/20170731-20170802-114903-191345.ns5'"
      ]
     },
     "execution_count": 6,
     "metadata": {},
     "output_type": "execute_result"
    }
   ],
   "source": [
    "# and chose one example data\n",
    "micfile=path +'20170731-20170802-114903-191345.ns5'\n",
    "micfile\n"
   ]
  },
  {
   "cell_type": "markdown",
   "id": "07a28d11-7596-46a5-ba59-18c981db5c05",
   "metadata": {},
   "source": [
    "Let's read the .ns5 raw data. the output will include, among other things, the raw data in the form of channels x samples.\n",
    "Pay attention to the fact that the whole data should be read (all channels and all time points), \n",
    "as this function might have a bug when loading only partial data."
   ]
  },
  {
   "cell_type": "code",
   "execution_count": 7,
   "id": "ed1ed410-b04b-4e81-bb0c-e97ed86b1a38",
   "metadata": {
    "tags": []
   },
   "outputs": [
    {
     "name": "stdout",
     "output_type": "stream",
     "text": [
      "\n",
      "20170731-20170802-114903-191345.ns5 opened\n",
      "\n",
      "Output data requested is larger than 1 GB, attempting to preallocate output now\n",
      "\n",
      "20170731-20170802-114903-191345.ns5 closed\n"
     ]
    }
   ],
   "source": [
    "# read the ns5 file\n",
    "nsxFileObj = NsxFile(micfile)\n",
    "nsxFileContent = nsxFileObj.getdata('all', 0,1,1) # channels, start time, data time, downsample factor, zeropad\n",
    "nsxFileObj.close()\n",
    "\n",
    "# obtain the raw data in the ns5 file, organized as N-by-M array with\n",
    "# N = number of channels and M = number of samples\n",
    "microData = nsxFileContent['data'][0].T\n",
    "\n",
    "# convert into microvolt data by dividing by 4 (ask Lukas about this...)\n",
    "microDataUV = microData / 4\n"
   ]
  },
  {
   "cell_type": "markdown",
   "id": "9d0d9963-057f-425f-abb0-dc6552910b63",
   "metadata": {},
   "source": [
    "Check that the output has chennels x samples as dimensions"
   ]
  },
  {
   "cell_type": "code",
   "execution_count": 8,
   "id": "7f232aa2-5f75-40b6-ae96-831424e908ae",
   "metadata": {},
   "outputs": [
    {
     "name": "stdout",
     "output_type": "stream",
     "text": [
      "number of channels:  35\n"
     ]
    },
    {
     "data": {
      "text/plain": [
       "{'Timestamp': 0, 'NumDataPoints': 206147130}"
      ]
     },
     "execution_count": 8,
     "metadata": {},
     "output_type": "execute_result"
    }
   ],
   "source": [
    "print('number of channels: ',len(nsxFileContent['elec_ids']))\n",
    "nsxFileContent['data_headers'][0]"
   ]
  },
  {
   "cell_type": "code",
   "execution_count": 9,
   "id": "938140bb-de23-4edb-a5f0-283c219ec85c",
   "metadata": {},
   "outputs": [
    {
     "data": {
      "text/plain": [
       "(35, 206147130)"
      ]
     },
     "execution_count": 9,
     "metadata": {},
     "output_type": "execute_result"
    }
   ],
   "source": [
    "# should be channels x samples\n",
    "microDataUV.shape\n"
   ]
  },
  {
   "cell_type": "code",
   "execution_count": 10,
   "id": "ec4f0d0a-826c-426a-bf7d-21d686a2c324",
   "metadata": {},
   "outputs": [
    {
     "data": {
      "text/plain": [
       "'/home1/noaherz/micros/FR453_raw_DBoy3_1_0/20170731-20170802-114903-191345'"
      ]
     },
     "execution_count": 10,
     "metadata": {},
     "output_type": "execute_result"
    }
   ],
   "source": [
    "ospath.splitext(nsxFileObj.datafile.name)[0]\n",
    "\n"
   ]
  },
  {
   "cell_type": "markdown",
   "id": "e8a54ee4-963c-489c-80bc-e6f660704ff0",
   "metadata": {},
   "source": [
    "Separate the raw data into different channels\n",
    "\n",
    "This part of the script was taken from:\n",
    "    https://github.com/JacobsSU/SpikeSorting/blob/main/notebooks/Intro_SpikeSorting2.ipynb"
   ]
  },
  {
   "cell_type": "code",
   "execution_count": 11,
   "id": "18212912-a5df-40b3-b36b-944426dfdbe9",
   "metadata": {
    "tags": []
   },
   "outputs": [
    {
     "data": {
      "text/plain": [
       "'/home1/noaherz/micros/Python-Utilities'"
      ]
     },
     "execution_count": 11,
     "metadata": {},
     "output_type": "execute_result"
    }
   ],
   "source": [
    "%pwd"
   ]
  },
  {
   "cell_type": "code",
   "execution_count": 46,
   "id": "edbf44dc-09fb-4ab3-89eb-3be6b0c96097",
   "metadata": {
    "collapsed": true,
    "jupyter": {
     "outputs_hidden": true
    },
    "tags": []
   },
   "outputs": [
    {
     "ename": "TypeError",
     "evalue": "Object of type ndarray is not JSON serializable",
     "output_type": "error",
     "traceback": [
      "\u001b[0;31m---------------------------------------------------------------------------\u001b[0m",
      "\u001b[0;31mTypeError\u001b[0m                                 Traceback (most recent call last)",
      "\u001b[0;32m/tmp/2735418.1.jupyter.q/ipykernel_114193/894091576.py\u001b[0m in \u001b[0;36m<module>\u001b[0;34m\u001b[0m\n\u001b[1;32m      2\u001b[0m \u001b[0mpath\u001b[0m \u001b[0;34m=\u001b[0m \u001b[0mospath\u001b[0m\u001b[0;34m.\u001b[0m\u001b[0msplitext\u001b[0m\u001b[0;34m(\u001b[0m\u001b[0mnsxFileObj\u001b[0m\u001b[0;34m.\u001b[0m\u001b[0mdatafile\u001b[0m\u001b[0;34m.\u001b[0m\u001b[0mname\u001b[0m\u001b[0;34m)\u001b[0m\u001b[0;34m[\u001b[0m\u001b[0;36m0\u001b[0m\u001b[0;34m]\u001b[0m\u001b[0;34m\u001b[0m\u001b[0;34m\u001b[0m\u001b[0m\n\u001b[1;32m      3\u001b[0m \u001b[0;32mwith\u001b[0m \u001b[0mopen\u001b[0m\u001b[0;34m(\u001b[0m\u001b[0;34m'{}_params.txt'\u001b[0m\u001b[0;34m.\u001b[0m\u001b[0mformat\u001b[0m\u001b[0;34m(\u001b[0m\u001b[0mpath\u001b[0m\u001b[0;34m)\u001b[0m\u001b[0;34m,\u001b[0m \u001b[0;34m'w'\u001b[0m\u001b[0;34m)\u001b[0m \u001b[0;32mas\u001b[0m \u001b[0mfile\u001b[0m\u001b[0;34m:\u001b[0m\u001b[0;34m\u001b[0m\u001b[0;34m\u001b[0m\u001b[0m\n\u001b[0;32m----> 4\u001b[0;31m      \u001b[0mfile\u001b[0m\u001b[0;34m.\u001b[0m\u001b[0mwrite\u001b[0m\u001b[0;34m(\u001b[0m\u001b[0mjson\u001b[0m\u001b[0;34m.\u001b[0m\u001b[0mdump\u001b[0m\u001b[0;34m(\u001b[0m\u001b[0mnsxFileContent\u001b[0m\u001b[0;34m,\u001b[0m\u001b[0mfile\u001b[0m\u001b[0;34m)\u001b[0m\u001b[0;34m)\u001b[0m\u001b[0;34m\u001b[0m\u001b[0;34m\u001b[0m\u001b[0m\n\u001b[0m",
      "\u001b[0;32m~/.conda/envs/spike_clustering/lib/python3.8/json/__init__.py\u001b[0m in \u001b[0;36mdump\u001b[0;34m(obj, fp, skipkeys, ensure_ascii, check_circular, allow_nan, cls, indent, separators, default, sort_keys, **kw)\u001b[0m\n\u001b[1;32m    177\u001b[0m     \u001b[0;31m# could accelerate with writelines in some versions of Python, at\u001b[0m\u001b[0;34m\u001b[0m\u001b[0;34m\u001b[0m\u001b[0;34m\u001b[0m\u001b[0m\n\u001b[1;32m    178\u001b[0m     \u001b[0;31m# a debuggability cost\u001b[0m\u001b[0;34m\u001b[0m\u001b[0;34m\u001b[0m\u001b[0;34m\u001b[0m\u001b[0m\n\u001b[0;32m--> 179\u001b[0;31m     \u001b[0;32mfor\u001b[0m \u001b[0mchunk\u001b[0m \u001b[0;32min\u001b[0m \u001b[0miterable\u001b[0m\u001b[0;34m:\u001b[0m\u001b[0;34m\u001b[0m\u001b[0;34m\u001b[0m\u001b[0m\n\u001b[0m\u001b[1;32m    180\u001b[0m         \u001b[0mfp\u001b[0m\u001b[0;34m.\u001b[0m\u001b[0mwrite\u001b[0m\u001b[0;34m(\u001b[0m\u001b[0mchunk\u001b[0m\u001b[0;34m)\u001b[0m\u001b[0;34m\u001b[0m\u001b[0;34m\u001b[0m\u001b[0m\n\u001b[1;32m    181\u001b[0m \u001b[0;34m\u001b[0m\u001b[0m\n",
      "\u001b[0;32m~/.conda/envs/spike_clustering/lib/python3.8/json/encoder.py\u001b[0m in \u001b[0;36m_iterencode\u001b[0;34m(o, _current_indent_level)\u001b[0m\n\u001b[1;32m    429\u001b[0m             \u001b[0;32myield\u001b[0m \u001b[0;32mfrom\u001b[0m \u001b[0m_iterencode_list\u001b[0m\u001b[0;34m(\u001b[0m\u001b[0mo\u001b[0m\u001b[0;34m,\u001b[0m \u001b[0m_current_indent_level\u001b[0m\u001b[0;34m)\u001b[0m\u001b[0;34m\u001b[0m\u001b[0;34m\u001b[0m\u001b[0m\n\u001b[1;32m    430\u001b[0m         \u001b[0;32melif\u001b[0m \u001b[0misinstance\u001b[0m\u001b[0;34m(\u001b[0m\u001b[0mo\u001b[0m\u001b[0;34m,\u001b[0m \u001b[0mdict\u001b[0m\u001b[0;34m)\u001b[0m\u001b[0;34m:\u001b[0m\u001b[0;34m\u001b[0m\u001b[0;34m\u001b[0m\u001b[0m\n\u001b[0;32m--> 431\u001b[0;31m             \u001b[0;32myield\u001b[0m \u001b[0;32mfrom\u001b[0m \u001b[0m_iterencode_dict\u001b[0m\u001b[0;34m(\u001b[0m\u001b[0mo\u001b[0m\u001b[0;34m,\u001b[0m \u001b[0m_current_indent_level\u001b[0m\u001b[0;34m)\u001b[0m\u001b[0;34m\u001b[0m\u001b[0;34m\u001b[0m\u001b[0m\n\u001b[0m\u001b[1;32m    432\u001b[0m         \u001b[0;32melse\u001b[0m\u001b[0;34m:\u001b[0m\u001b[0;34m\u001b[0m\u001b[0;34m\u001b[0m\u001b[0m\n\u001b[1;32m    433\u001b[0m             \u001b[0;32mif\u001b[0m \u001b[0mmarkers\u001b[0m \u001b[0;32mis\u001b[0m \u001b[0;32mnot\u001b[0m \u001b[0;32mNone\u001b[0m\u001b[0;34m:\u001b[0m\u001b[0;34m\u001b[0m\u001b[0;34m\u001b[0m\u001b[0m\n",
      "\u001b[0;32m~/.conda/envs/spike_clustering/lib/python3.8/json/encoder.py\u001b[0m in \u001b[0;36m_iterencode_dict\u001b[0;34m(dct, _current_indent_level)\u001b[0m\n\u001b[1;32m    403\u001b[0m                 \u001b[0;32melse\u001b[0m\u001b[0;34m:\u001b[0m\u001b[0;34m\u001b[0m\u001b[0;34m\u001b[0m\u001b[0m\n\u001b[1;32m    404\u001b[0m                     \u001b[0mchunks\u001b[0m \u001b[0;34m=\u001b[0m \u001b[0m_iterencode\u001b[0m\u001b[0;34m(\u001b[0m\u001b[0mvalue\u001b[0m\u001b[0;34m,\u001b[0m \u001b[0m_current_indent_level\u001b[0m\u001b[0;34m)\u001b[0m\u001b[0;34m\u001b[0m\u001b[0;34m\u001b[0m\u001b[0m\n\u001b[0;32m--> 405\u001b[0;31m                 \u001b[0;32myield\u001b[0m \u001b[0;32mfrom\u001b[0m \u001b[0mchunks\u001b[0m\u001b[0;34m\u001b[0m\u001b[0;34m\u001b[0m\u001b[0m\n\u001b[0m\u001b[1;32m    406\u001b[0m         \u001b[0;32mif\u001b[0m \u001b[0mnewline_indent\u001b[0m \u001b[0;32mis\u001b[0m \u001b[0;32mnot\u001b[0m \u001b[0;32mNone\u001b[0m\u001b[0;34m:\u001b[0m\u001b[0;34m\u001b[0m\u001b[0;34m\u001b[0m\u001b[0m\n\u001b[1;32m    407\u001b[0m             \u001b[0m_current_indent_level\u001b[0m \u001b[0;34m-=\u001b[0m \u001b[0;36m1\u001b[0m\u001b[0;34m\u001b[0m\u001b[0;34m\u001b[0m\u001b[0m\n",
      "\u001b[0;32m~/.conda/envs/spike_clustering/lib/python3.8/json/encoder.py\u001b[0m in \u001b[0;36m_iterencode_list\u001b[0;34m(lst, _current_indent_level)\u001b[0m\n\u001b[1;32m    323\u001b[0m                 \u001b[0;32melse\u001b[0m\u001b[0;34m:\u001b[0m\u001b[0;34m\u001b[0m\u001b[0;34m\u001b[0m\u001b[0m\n\u001b[1;32m    324\u001b[0m                     \u001b[0mchunks\u001b[0m \u001b[0;34m=\u001b[0m \u001b[0m_iterencode\u001b[0m\u001b[0;34m(\u001b[0m\u001b[0mvalue\u001b[0m\u001b[0;34m,\u001b[0m \u001b[0m_current_indent_level\u001b[0m\u001b[0;34m)\u001b[0m\u001b[0;34m\u001b[0m\u001b[0;34m\u001b[0m\u001b[0m\n\u001b[0;32m--> 325\u001b[0;31m                 \u001b[0;32myield\u001b[0m \u001b[0;32mfrom\u001b[0m \u001b[0mchunks\u001b[0m\u001b[0;34m\u001b[0m\u001b[0;34m\u001b[0m\u001b[0m\n\u001b[0m\u001b[1;32m    326\u001b[0m         \u001b[0;32mif\u001b[0m \u001b[0mnewline_indent\u001b[0m \u001b[0;32mis\u001b[0m \u001b[0;32mnot\u001b[0m \u001b[0;32mNone\u001b[0m\u001b[0;34m:\u001b[0m\u001b[0;34m\u001b[0m\u001b[0;34m\u001b[0m\u001b[0m\n\u001b[1;32m    327\u001b[0m             \u001b[0m_current_indent_level\u001b[0m \u001b[0;34m-=\u001b[0m \u001b[0;36m1\u001b[0m\u001b[0;34m\u001b[0m\u001b[0;34m\u001b[0m\u001b[0m\n",
      "\u001b[0;32m~/.conda/envs/spike_clustering/lib/python3.8/json/encoder.py\u001b[0m in \u001b[0;36m_iterencode\u001b[0;34m(o, _current_indent_level)\u001b[0m\n\u001b[1;32m    436\u001b[0m                     \u001b[0;32mraise\u001b[0m \u001b[0mValueError\u001b[0m\u001b[0;34m(\u001b[0m\u001b[0;34m\"Circular reference detected\"\u001b[0m\u001b[0;34m)\u001b[0m\u001b[0;34m\u001b[0m\u001b[0;34m\u001b[0m\u001b[0m\n\u001b[1;32m    437\u001b[0m                 \u001b[0mmarkers\u001b[0m\u001b[0;34m[\u001b[0m\u001b[0mmarkerid\u001b[0m\u001b[0;34m]\u001b[0m \u001b[0;34m=\u001b[0m \u001b[0mo\u001b[0m\u001b[0;34m\u001b[0m\u001b[0;34m\u001b[0m\u001b[0m\n\u001b[0;32m--> 438\u001b[0;31m             \u001b[0mo\u001b[0m \u001b[0;34m=\u001b[0m \u001b[0m_default\u001b[0m\u001b[0;34m(\u001b[0m\u001b[0mo\u001b[0m\u001b[0;34m)\u001b[0m\u001b[0;34m\u001b[0m\u001b[0;34m\u001b[0m\u001b[0m\n\u001b[0m\u001b[1;32m    439\u001b[0m             \u001b[0;32myield\u001b[0m \u001b[0;32mfrom\u001b[0m \u001b[0m_iterencode\u001b[0m\u001b[0;34m(\u001b[0m\u001b[0mo\u001b[0m\u001b[0;34m,\u001b[0m \u001b[0m_current_indent_level\u001b[0m\u001b[0;34m)\u001b[0m\u001b[0;34m\u001b[0m\u001b[0;34m\u001b[0m\u001b[0m\n\u001b[1;32m    440\u001b[0m             \u001b[0;32mif\u001b[0m \u001b[0mmarkers\u001b[0m \u001b[0;32mis\u001b[0m \u001b[0;32mnot\u001b[0m \u001b[0;32mNone\u001b[0m\u001b[0;34m:\u001b[0m\u001b[0;34m\u001b[0m\u001b[0;34m\u001b[0m\u001b[0m\n",
      "\u001b[0;32m~/.conda/envs/spike_clustering/lib/python3.8/json/encoder.py\u001b[0m in \u001b[0;36mdefault\u001b[0;34m(self, o)\u001b[0m\n\u001b[1;32m    177\u001b[0m \u001b[0;34m\u001b[0m\u001b[0m\n\u001b[1;32m    178\u001b[0m         \"\"\"\n\u001b[0;32m--> 179\u001b[0;31m         raise TypeError(f'Object of type {o.__class__.__name__} '\n\u001b[0m\u001b[1;32m    180\u001b[0m                         f'is not JSON serializable')\n\u001b[1;32m    181\u001b[0m \u001b[0;34m\u001b[0m\u001b[0m\n",
      "\u001b[0;31mTypeError\u001b[0m: Object of type ndarray is not JSON serializable"
     ]
    }
   ],
   "source": [
    "# Open a text file and write in header information (this is not working fir some reason, but doesn't seem crucial)\n",
    "path = ospath.splitext(nsxFileObj.datafile.name)[0]\n",
    "with open('{}_params.txt'.format(path), 'w') as file:\n",
    "     file.write(json.dump(nsxFileContent,file))"
   ]
  },
  {
   "cell_type": "code",
   "execution_count": 12,
   "id": "34558dfa-9ee1-4e14-870a-2674e442e626",
   "metadata": {},
   "outputs": [
    {
     "data": {
      "text/plain": [
       "'/home1/noaherz/micros/FR453_raw_DBoy3_1_0/20170731-20170802-114903-191345'"
      ]
     },
     "execution_count": 12,
     "metadata": {},
     "output_type": "execute_result"
    }
   ],
   "source": [
    "path = ospath.splitext(nsxFileObj.datafile.name)[0]\n",
    "path"
   ]
  },
  {
   "cell_type": "markdown",
   "id": "2acc8511-5126-436e-ad0d-c04e106f673d",
   "metadata": {},
   "source": [
    "f.create_dataset is the function that splits the raw data into seperate channels.\n",
    "We want to save the new channels into a new folder ('split channel') instead of the default that saves them within the same folder of the raw data.\n",
    "\n",
    "See Tom's code for further details:\n",
    "https://github.com/JacobsSU/SortT3/blob/main/scripts/split_files.py\n",
    "\n",
    "    "
   ]
  },
  {
   "cell_type": "code",
   "execution_count": 22,
   "id": "02ef4c81-352b-471d-b44e-a16386df1ce9",
   "metadata": {
    "tags": []
   },
   "outputs": [
    {
     "name": "stdout",
     "output_type": "stream",
     "text": [
      "split electrode 0\n",
      "split electrode 1\n",
      "split electrode 2\n",
      "split electrode 3\n",
      "split electrode 4\n",
      "split electrode 5\n",
      "split electrode 6\n",
      "split electrode 7\n",
      "split electrode 8\n",
      "split electrode 9\n",
      "split electrode 10\n",
      "split electrode 11\n",
      "split electrode 12\n",
      "split electrode 13\n",
      "split electrode 14\n",
      "split electrode 15\n",
      "split electrode 16\n",
      "split electrode 17\n",
      "split electrode 18\n",
      "split electrode 19\n",
      "split electrode 20\n",
      "split electrode 21\n",
      "split electrode 22\n",
      "split electrode 23\n",
      "split electrode 24\n",
      "split electrode 25\n",
      "split electrode 26\n",
      "split electrode 27\n",
      "split electrode 28\n",
      "split electrode 29\n",
      "split electrode 30\n",
      "split electrode 31\n",
      "split electrode 32\n",
      "split electrode 33\n",
      "split electrode 34\n"
     ]
    }
   ],
   "source": [
    "# For Combinato (separate channels - save as matfiles)\n",
    "## NOTE: CURRENTLY, Combinato hangs on large datasets. \n",
    "\n",
    "# # Open a text file and write in header information \n",
    "path = ospath.splitext(nsxFileObj.datafile.name)[0]\n",
    "file_name = ospath.splitext(nsxFileObj.datafile.name)[0][22:-1]\n",
    "subject_path='/home1/noaherz/micros/FR453_raw_DBoy3_1_0'\n",
    "# with open('{}_params.txt'.format(path), 'w') as file:\n",
    "#      file.write(json.dumps(nsxFileContent)\n",
    "    \n",
    "# Split the data by channels and write into hdf5 files\n",
    "for ix, electrode in enumerate(nsxFileContent['elec_ids']):\n",
    "    if electrode != '129': # This is typically the sync pulse channel\n",
    "                \n",
    "        if not os.path.exists(f\"{subject_path}/split_files\"):\n",
    "            print('Creating split_files folder')\n",
    "            os.mkdir(f\"{subject_path}/split_files\")\n",
    "\n",
    "        os.chdir(f\"{subject_path}/split_files\")   \n",
    "         ## Save out HDF5 of microdata   : \n",
    "        f = h5py.File(\"{}_chan{}.hdf5\".format(path, electrode), \"w\")\n",
    "#         f = h5py.File({}_chan_{}.hdf5'.format(path,electrode), \"w\")\n",
    "        os.chdir(f\"{subject_path}/split_files\")\n",
    "        f.create_dataset('data', data=microData[ix, :], dtype='<i2')\n",
    "        f.close()\n",
    "        print('split electrode {}'.format(ix))\n",
    "        #  Using the blackrock code\n",
    "        #nsxfile.savesubsetnsx(elec_ids=[electrode], file_suffix='chan_{}'.format(electrodes))\n",
    "        # Matfile: \n",
    "        #data_as_dict = {'data': data[ix, :11000000].astype('double'),\n",
    "        #                 'sr':30000}\n",
    "        #sio.savemat(\"{}_chan{}.mat\".format(path, electrode), data_as_dict)\n"
   ]
  },
  {
   "cell_type": "markdown",
   "id": "f2a3ffa1-855c-4e7e-9c3e-f58c4536d1f0",
   "metadata": {},
   "source": [
    "Load the hd5 files and take a look at the raw data"
   ]
  },
  {
   "cell_type": "code",
   "execution_count": 14,
   "id": "938c3098-3e5d-4d4d-9aa4-a597a953a2e2",
   "metadata": {},
   "outputs": [
    {
     "data": {
      "text/plain": [
       "'/home1/noaherz/micros/FR453_raw_DBoy3_1_0/split_files'"
      ]
     },
     "execution_count": 14,
     "metadata": {},
     "output_type": "execute_result"
    }
   ],
   "source": [
    "%pwd\n",
    "# %cd ..\n",
    "# %cd FR453_raw_DBoy3_1_0"
   ]
  },
  {
   "cell_type": "code",
   "execution_count": 15,
   "id": "05d8501a-82e1-4b5c-ba07-482f6ce439a7",
   "metadata": {},
   "outputs": [
    {
     "data": {
      "text/plain": [
       "(206147130,)"
      ]
     },
     "execution_count": 15,
     "metadata": {},
     "output_type": "execute_result"
    }
   ],
   "source": [
    "f = h5py.File(\"20170731-20170802-114903-191345_chan1.hdf5\".format(path), \"r\")\n",
    "out=f.get('data') # Plot the data for few channels to check they seem ok\n",
    "out.shape"
   ]
  },
  {
   "cell_type": "code",
   "execution_count": 20,
   "id": "d70543ce-cff5-48f3-a993-d4cfa4a27475",
   "metadata": {},
   "outputs": [
    {
     "data": {
      "text/plain": [
       "Text(0, 0.5, 'What measuring units?')"
      ]
     },
     "execution_count": 20,
     "metadata": {},
     "output_type": "execute_result"
    },
    {
     "data": {
      "image/png": "[encoded data removed]",
      "text/plain": [
       "<Figure size 432x288 with 1 Axes>"
      ]
     },
     "metadata": {
      "needs_background": "light"
     },
     "output_type": "display_data"
    }
   ],
   "source": [
    "# add a basic plot to see that the data exists.\n",
    "plt.plot(out[0:30000]) #random subset\n",
    "plt.xlabel('Samples')\n",
    "plt.ylabel('What measuring units?')"
   ]
  },
  {
   "cell_type": "markdown",
   "id": "455e694f-5da1-430e-ac95-2ef46f77a5d0",
   "metadata": {},
   "source": [
    "Within the same folder in which we have the channels data ('split channel'), we will also save the .sh script that can be found here:\n",
    "    https://github.com/JacobsSU/SortT3/blob/main/shell/run_sorting.sh\n",
    "    \n",
    "We can than open the terminal from our Jupyter lab and run this run_sorting.sh script.(chmod +x ./run_sorting.sh if needed)\n",
    "This script will do the automatic spike sorting for our data, and the output will be different folders for each of our channels \n",
    "(with subdirectories that will be automatically created within them).\n",
    "\n",
    "This step takes time, so you might want to use the 'screen' commend in terminal to make sure that if the connection is disrupted your task will keep on running.\n",
    "\n",
    "Pay attantion to the fact that before running the run_sorting.sh, you will need to download Combinato to your computer and make sure \n",
    "it is added to your home directory. I did it using the following commands on terminal:\n",
    "    \n",
    "Activate your environment: \n",
    "(Follow this installation setup: https://github.com/JacobsSU/SpikeSorting/blob/main/notebooks/Intro_SpikeSorting2.ipynb)\n",
    "    \n",
    "source activate spike_clustering\n",
    "    \n",
    "    \n",
    "and then set up your paths: (change according to the place where your combinato repo is stored:)\n",
    "\n",
    "\n",
    "    "
   ]
  },
  {
   "cell_type": "code",
   "execution_count": 23,
   "id": "77d503de-e564-4377-848a-b6b4b5cbdfc7",
   "metadata": {},
   "outputs": [],
   "source": [
    "# PATH=$PATH:/home1/noaherz/micros/combinato\n",
    "# PYTHONPATH=$PYTHONPATH:/home1/noaherz/micros/combinato\n",
    "# export PATH PYTHONPATH"
   ]
  },
  {
   "cell_type": "markdown",
   "id": "f7b826b0-212f-4763-8bb9-71aafc8ebbe7",
   "metadata": {},
   "source": [
    "check the Combinato code & docs:\n",
    "https://github.com/jniediek/combinato\n"
   ]
  },
  {
   "cell_type": "code",
   "execution_count": 21,
   "id": "80aae119-77eb-427a-8827-f0c042f2d423",
   "metadata": {},
   "outputs": [],
   "source": [
    "# # Write a bash script to run the automatic spike sorting for all the data \n",
    "# # Note, because Combinato currently doesn't support parallel processing for non-Neuralynx data, we use css-simple-clustering. \n",
    "\n",
    "# '/home1/noaherz/micros/FR453_raw_DBoy3_1_0/20170731-20170802-114903-191345'\n",
    "\n",
    "# path_to_sh = '/home1/noaherz/micros/FR453_raw_DBoy3_1_0'\n",
    "# path_to_split_files= '/home1/noaherz/micros/FR453_raw_DBoy3_1_0'\n",
    "# path_to_save_jobfiles= '/home1/noaherz/micros/FR453_raw_DBoy3_1_0/clustered_spikes'\n",
    "# user_name = path_to_sh.split('/')[2][0:3]\n",
    "\n",
    "\n",
    "# # Extract and cluster NEGATIVE polarity spikes \n",
    "# with open ('{}/run_combinato_neg.sh'.format(path_to_sh), 'w') as bash_script:\n",
    "#         bash_script.write('''\n",
    "#                     #!/bin/bash\n",
    "#                     declare -a arr=({path_to_split_files})\n",
    "#                     mkdir {path_to_save_jobfiles}\n",
    "#                     mkdir {path_to_save_jobfiles}/$(date '+%d-%b-%Y')\n",
    "#                     cd {path_to_save_jobfiles}/$(date '+%d-%b-%Y')\n",
    "#                     touch do_manual_neg.txt\n",
    "#                     for file in \"${{arr[@]}}\"; do\n",
    "#                         cd $file\n",
    "#                         for chan in *.mat; do\n",
    "#                             css-extract --files ${{chan%%.*}}.hdf5 --h5\n",
    "#                         css-mask-artifacts\n",
    "#                         ls */*.h5 > do_sort.txt\n",
    "#                         css-prepare-sorting --neg --jobs do_sort.txt\n",
    "#                         css-cluster --jobs do_sort.txt\n",
    "#                         css-combine --jobs do_sort.txt\n",
    "#                         done\n",
    "#                     done\n",
    "#                 '''.format(path_to_split_files=path_to_split_files,\n",
    "#                            path_to_save_jobfiles=path_to_save_jobfiles,\n",
    "#                            user_name=user_name))\n"
   ]
  },
  {
   "cell_type": "code",
   "execution_count": 29,
   "id": "ef2f30b4-3554-4baf-96a7-fa9e92d321d6",
   "metadata": {
    "collapsed": true,
    "jupyter": {
     "outputs_hidden": true
    },
    "tags": []
   },
   "outputs": [
    {
     "ename": "OSError",
     "evalue": "[Errno 12] Cannot allocate memory",
     "output_type": "error",
     "traceback": [
      "\u001b[0;31m---------------------------------------------------------------------------\u001b[0m",
      "\u001b[0;31mOSError\u001b[0m                                   Traceback (most recent call last)",
      "\u001b[0;32m/tmp/2735418.1.jupyter.q/ipykernel_103093/3575395382.py\u001b[0m in \u001b[0;36m<module>\u001b[0;34m\u001b[0m\n\u001b[1;32m      1\u001b[0m \u001b[0mpath_to_sh\u001b[0m \u001b[0;34m=\u001b[0m \u001b[0;34m'/home1/noaherz/micros/FR453_raw_DBoy3_1_0'\u001b[0m\u001b[0;34m\u001b[0m\u001b[0;34m\u001b[0m\u001b[0m\n\u001b[1;32m      2\u001b[0m \u001b[0;32mimport\u001b[0m \u001b[0msubprocess\u001b[0m\u001b[0;34m\u001b[0m\u001b[0;34m\u001b[0m\u001b[0m\n\u001b[0;32m----> 3\u001b[0;31m \u001b[0msubprocess\u001b[0m\u001b[0;34m.\u001b[0m\u001b[0mcall\u001b[0m\u001b[0;34m(\u001b[0m\u001b[0;34m[\u001b[0m\u001b[0;34m'{}/run_combinato.sh'\u001b[0m\u001b[0;34m.\u001b[0m\u001b[0mformat\u001b[0m\u001b[0;34m(\u001b[0m\u001b[0mpath_to_sh\u001b[0m\u001b[0;34m)\u001b[0m\u001b[0;34m]\u001b[0m\u001b[0;34m,\u001b[0m \u001b[0mshell\u001b[0m\u001b[0;34m=\u001b[0m\u001b[0;32mTrue\u001b[0m\u001b[0;34m)\u001b[0m\u001b[0;34m\u001b[0m\u001b[0;34m\u001b[0m\u001b[0m\n\u001b[0m",
      "\u001b[0;32m~/.conda/envs/spike_clustering/lib/python3.8/subprocess.py\u001b[0m in \u001b[0;36mcall\u001b[0;34m(timeout, *popenargs, **kwargs)\u001b[0m\n\u001b[1;32m    338\u001b[0m     \u001b[0mretcode\u001b[0m \u001b[0;34m=\u001b[0m \u001b[0mcall\u001b[0m\u001b[0;34m(\u001b[0m\u001b[0;34m[\u001b[0m\u001b[0;34m\"ls\"\u001b[0m\u001b[0;34m,\u001b[0m \u001b[0;34m\"-l\"\u001b[0m\u001b[0;34m]\u001b[0m\u001b[0;34m)\u001b[0m\u001b[0;34m\u001b[0m\u001b[0;34m\u001b[0m\u001b[0m\n\u001b[1;32m    339\u001b[0m     \"\"\"\n\u001b[0;32m--> 340\u001b[0;31m     \u001b[0;32mwith\u001b[0m \u001b[0mPopen\u001b[0m\u001b[0;34m(\u001b[0m\u001b[0;34m*\u001b[0m\u001b[0mpopenargs\u001b[0m\u001b[0;34m,\u001b[0m \u001b[0;34m**\u001b[0m\u001b[0mkwargs\u001b[0m\u001b[0;34m)\u001b[0m \u001b[0;32mas\u001b[0m \u001b[0mp\u001b[0m\u001b[0;34m:\u001b[0m\u001b[0;34m\u001b[0m\u001b[0;34m\u001b[0m\u001b[0m\n\u001b[0m\u001b[1;32m    341\u001b[0m         \u001b[0;32mtry\u001b[0m\u001b[0;34m:\u001b[0m\u001b[0;34m\u001b[0m\u001b[0;34m\u001b[0m\u001b[0m\n\u001b[1;32m    342\u001b[0m             \u001b[0;32mreturn\u001b[0m \u001b[0mp\u001b[0m\u001b[0;34m.\u001b[0m\u001b[0mwait\u001b[0m\u001b[0;34m(\u001b[0m\u001b[0mtimeout\u001b[0m\u001b[0;34m=\u001b[0m\u001b[0mtimeout\u001b[0m\u001b[0;34m)\u001b[0m\u001b[0;34m\u001b[0m\u001b[0;34m\u001b[0m\u001b[0m\n",
      "\u001b[0;32m~/.conda/envs/spike_clustering/lib/python3.8/subprocess.py\u001b[0m in \u001b[0;36m__init__\u001b[0;34m(self, args, bufsize, executable, stdin, stdout, stderr, preexec_fn, close_fds, shell, cwd, env, universal_newlines, startupinfo, creationflags, restore_signals, start_new_session, pass_fds, encoding, errors, text)\u001b[0m\n\u001b[1;32m    856\u001b[0m                             encoding=encoding, errors=errors)\n\u001b[1;32m    857\u001b[0m \u001b[0;34m\u001b[0m\u001b[0m\n\u001b[0;32m--> 858\u001b[0;31m             self._execute_child(args, executable, preexec_fn, close_fds,\n\u001b[0m\u001b[1;32m    859\u001b[0m                                 \u001b[0mpass_fds\u001b[0m\u001b[0;34m,\u001b[0m \u001b[0mcwd\u001b[0m\u001b[0;34m,\u001b[0m \u001b[0menv\u001b[0m\u001b[0;34m,\u001b[0m\u001b[0;34m\u001b[0m\u001b[0;34m\u001b[0m\u001b[0m\n\u001b[1;32m    860\u001b[0m                                 \u001b[0mstartupinfo\u001b[0m\u001b[0;34m,\u001b[0m \u001b[0mcreationflags\u001b[0m\u001b[0;34m,\u001b[0m \u001b[0mshell\u001b[0m\u001b[0;34m,\u001b[0m\u001b[0;34m\u001b[0m\u001b[0;34m\u001b[0m\u001b[0m\n",
      "\u001b[0;32m~/.conda/envs/spike_clustering/lib/python3.8/subprocess.py\u001b[0m in \u001b[0;36m_execute_child\u001b[0;34m(self, args, executable, preexec_fn, close_fds, pass_fds, cwd, env, startupinfo, creationflags, shell, p2cread, p2cwrite, c2pread, c2pwrite, errread, errwrite, restore_signals, start_new_session)\u001b[0m\n\u001b[1;32m   1637\u001b[0m                     \u001b[0mfds_to_keep\u001b[0m \u001b[0;34m=\u001b[0m \u001b[0mset\u001b[0m\u001b[0;34m(\u001b[0m\u001b[0mpass_fds\u001b[0m\u001b[0;34m)\u001b[0m\u001b[0;34m\u001b[0m\u001b[0;34m\u001b[0m\u001b[0m\n\u001b[1;32m   1638\u001b[0m                     \u001b[0mfds_to_keep\u001b[0m\u001b[0;34m.\u001b[0m\u001b[0madd\u001b[0m\u001b[0;34m(\u001b[0m\u001b[0merrpipe_write\u001b[0m\u001b[0;34m)\u001b[0m\u001b[0;34m\u001b[0m\u001b[0;34m\u001b[0m\u001b[0m\n\u001b[0;32m-> 1639\u001b[0;31m                     self.pid = _posixsubprocess.fork_exec(\n\u001b[0m\u001b[1;32m   1640\u001b[0m                             \u001b[0margs\u001b[0m\u001b[0;34m,\u001b[0m \u001b[0mexecutable_list\u001b[0m\u001b[0;34m,\u001b[0m\u001b[0;34m\u001b[0m\u001b[0;34m\u001b[0m\u001b[0m\n\u001b[1;32m   1641\u001b[0m                             \u001b[0mclose_fds\u001b[0m\u001b[0;34m,\u001b[0m \u001b[0mtuple\u001b[0m\u001b[0;34m(\u001b[0m\u001b[0msorted\u001b[0m\u001b[0;34m(\u001b[0m\u001b[0mmap\u001b[0m\u001b[0;34m(\u001b[0m\u001b[0mint\u001b[0m\u001b[0;34m,\u001b[0m \u001b[0mfds_to_keep\u001b[0m\u001b[0;34m)\u001b[0m\u001b[0;34m)\u001b[0m\u001b[0;34m)\u001b[0m\u001b[0;34m,\u001b[0m\u001b[0;34m\u001b[0m\u001b[0;34m\u001b[0m\u001b[0m\n",
      "\u001b[0;31mOSError\u001b[0m: [Errno 12] Cannot allocate memory"
     ]
    }
   ],
   "source": [
    "# import subprocess\n",
    "# subprocess.call(['{}/run_combinato.sh'.format(path_to_sh)], shell=True)"
   ]
  },
  {
   "cell_type": "markdown",
   "id": "ed268d24-e973-4153-9493-c7f8330e5aa8",
   "metadata": {},
   "source": [
    "head to your terminal.\n",
    "\n",
    "Make sure you type in\n",
    "\n",
    "source activate spike_clustering\n",
    "\n",
    "to ensure you're in the proper environment. Then,\n",
    "\n",
    "cd /home1/noaherz/micros/FR453_raw_DBoy3_1_0\n",
    "\n",
    "bash run_combinato_neg.sh"
   ]
  },
  {
   "cell_type": "markdown",
   "id": "9421ba2f-6017-4ec0-abb1-426e456e9ff3",
   "metadata": {},
   "source": [
    "# Notes about data organization:\n",
    "    \n",
    "Tom created an organized structure of files that can be found here:    \n",
    "    https://github.com/JacobsSU/SortT3/blob/main/scripts/settings.py\n",
    "    \n",
    "and here:\n",
    "    https://github.com/JacobsSU/convnwb/blob/main/convnwb/session.py\n",
    "    \n",
    "It probably make sense to decide on the exact organization after spike sorting 2-3 subjects, \n",
    "so that I'll have a better sense of the files created."
   ]
  },
  {
   "cell_type": "markdown",
   "id": "b8db0b8f-7d37-4a65-891e-a655be35a09f",
   "metadata": {
    "jupyter": {
     "outputs_hidden": true
    },
    "tags": []
   },
   "source": [
    "## Ignore the rest"
   ]
  },
  {
   "cell_type": "code",
   "execution_count": 17,
   "id": "6a246f73-e99b-4820-906a-461cd0cd9c2d",
   "metadata": {},
   "outputs": [
    {
     "name": "stdout",
     "output_type": "stream",
     "text": [
      "20170731-20170802-114903-191345.ns5\n",
      "20170731-20170802-114903-191345.params.txt\n",
      "20170731-20170802-114903-191345.sync.txt\n",
      "20170731-20170802-134338-191345.ns5\n",
      "20170731-20170802-134338-191345.params.txt\n",
      "20170731-20170802-134338-191345.sync.txt\n",
      "20170731-20170802-144405-191345.ns5\n",
      "20170731-20170802-144405-191345.params.txt\n",
      "20170731-20170802-144405-191345.sync.txt\n"
     ]
    }
   ],
   "source": [
    "# path=records.iloc[64]['micfile'][0:35]\n",
    "# import os\n",
    "# os.chdir(path)\n",
    "# %ls"
   ]
  },
  {
   "cell_type": "code",
   "execution_count": 23,
   "id": "583beed2-b05e-4cfb-bb9a-852ccc49fea3",
   "metadata": {},
   "outputs": [
    {
     "data": {
      "text/plain": [
       "samplerate 30000.0"
      ]
     },
     "metadata": {},
     "output_type": "display_data"
    }
   ],
   "source": [
    "# %less 20170731-20170802-114903-191345.params.txt\n",
    "# %less 20170731-20170802-114903-191345.sync.txt\n",
    "%less 20170731-20170802-134338-191345.params.txt\n",
    "# %less 20170731-20170802-144405-191345.params.txt"
   ]
  },
  {
   "cell_type": "code",
   "execution_count": 38,
   "id": "81b0f3c0-0138-4012-b607-b60602904f32",
   "metadata": {},
   "outputs": [
    {
     "data": {
      "text/plain": [
       "'/data/eeg/FR453/raw/DBoy3_1_0/micro/20170731-20170802-114903-191345.ns5'"
      ]
     },
     "execution_count": 38,
     "metadata": {},
     "output_type": "execute_result"
    }
   ],
   "source": [
    "start_time['micfile']"
   ]
  },
  {
   "cell_type": "code",
   "execution_count": 37,
   "id": "a01b56f8-8dee-4e37-afe6-2055ac99a2fa",
   "metadata": {},
   "outputs": [
    {
     "name": "stdout",
     "output_type": "stream",
     "text": [
      "\n",
      "20170731-20170802-114903-191345.ns5 opened\n",
      "\n",
      "Output data requested is larger than 1 GB, attempting to preallocate output now\n",
      "\n",
      "Output data requested is larger than 1 GB, attempting to preallocate output now\n",
      "\n",
      "20170731-20170802-114903-191345.ns5 closed\n"
     ]
    }
   ],
   "source": [
    "start_time = records.iloc[64]\n",
    "channels=[]\n",
    "samplerate = 30000\n",
    "starti = np.round(start_time['micoffset']/np.float(samplerate),decimals = 3)\n",
    "\n",
    "temp_dat1=[]\n",
    "# nsx_file = NsxFile(start_time['micfile'])\n",
    "nsx_file = NsxFile('/home1/noaherz/micros/FR453_raw_DBoy3_1_0/20170731-20170802-114903-191345.ns5')\n",
    "temp_dat1 = nsx_file.getdata('all', starti,1,1)\n",
    "temp_dat2=nsx_file.getdata(elec_ids=[1],start_time_s=0,data_time_s=2,downsample=1)\n",
    "# temp_dat = nsx_file.getdata(channels, starti, data_time, 1)['data']\n",
    "# temp_dat2 = nsx_file.getdata([1,2], starti, 5, 1)['data']\n",
    "nsx_file.close()\n"
   ]
  },
  {
   "cell_type": "code",
   "execution_count": 38,
   "id": "3782d58f-2cda-4c6b-b5f3-3f0a0c78fea4",
   "metadata": {},
   "outputs": [
    {
     "data": {
      "text/plain": [
       "206147130"
      ]
     },
     "execution_count": 38,
     "metadata": {},
     "output_type": "execute_result"
    }
   ],
   "source": [
    "len(temp_dat2['data'][0])\n"
   ]
  },
  {
   "cell_type": "code",
   "execution_count": 39,
   "id": "bb37f51a-ab45-4091-9f94-2336c686273a",
   "metadata": {},
   "outputs": [
    {
     "data": {
      "text/plain": [
       "206147130"
      ]
     },
     "execution_count": 39,
     "metadata": {},
     "output_type": "execute_result"
    }
   ],
   "source": [
    "# temp_dat1['data'].shape # should be channels x samples\n",
    "len(temp_dat1['data'][0])"
   ]
  },
  {
   "cell_type": "code",
   "execution_count": 53,
   "id": "44353da6-bf9d-4ebd-806d-38fb970a4d8d",
   "metadata": {},
   "outputs": [
    {
     "data": {
      "text/plain": [
       "dict_keys(['elec_ids', 'start_time_s', 'data_time_s', 'downsample', 'data', 'data_headers', 'ExtendedHeaderIndices'])"
      ]
     },
     "execution_count": 53,
     "metadata": {},
     "output_type": "execute_result"
    }
   ],
   "source": [
    "temp_dat1.keys()"
   ]
  },
  {
   "cell_type": "code",
   "execution_count": 55,
   "id": "7a82dafc-fe75-4476-8954-e1bb63346e43",
   "metadata": {},
   "outputs": [
    {
     "data": {
      "text/plain": [
       "{'elec_ids': [1],\n",
       " 'start_time_s': 1125.878,\n",
       " 'data_time_s': 5,\n",
       " 'downsample': 1,\n",
       " 'data': [array([[  74],\n",
       "         [ 122],\n",
       "         [ 196],\n",
       "         ...,\n",
       "         [6407],\n",
       "         [5603],\n",
       "         [  -5]], dtype=int16)],\n",
       " 'data_headers': [{'Timestamp': 0, 'NumDataPoints': 206147130}],\n",
       " 'ExtendedHeaderIndices': [0]}"
      ]
     },
     "execution_count": 55,
     "metadata": {},
     "output_type": "execute_result"
    }
   ],
   "source": [
    "temp_dat1"
   ]
  },
  {
   "cell_type": "code",
   "execution_count": 37,
   "id": "326c27aa-1d15-4196-a8af-b60eb005952d",
   "metadata": {},
   "outputs": [
    {
     "data": {
      "text/plain": [
       "150000"
      ]
     },
     "execution_count": 37,
     "metadata": {},
     "output_type": "execute_result"
    }
   ],
   "source": [
    "samplerate*5"
   ]
  }
 ],
 "metadata": {
  "kernelspec": {
   "display_name": "spike_clustering",
   "language": "python",
   "name": "spike_clustering"
  },
  "language_info": {
   "codemirror_mode": {
    "name": "ipython",
    "version": 3
   },
   "file_extension": ".py",
   "mimetype": "text/x-python",
   "name": "python",
   "nbconvert_exporter": "python",
   "pygments_lexer": "ipython3",
   "version": "3.8.12"
  }
 },
 "nbformat": 4,
 "nbformat_minor": 5
}
